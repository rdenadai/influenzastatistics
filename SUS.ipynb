{
 "cells": [
  {
   "cell_type": "code",
   "execution_count": 33,
   "metadata": {
    "ExecuteTime": {
     "end_time": "2020-06-10T14:22:06.095608Z",
     "start_time": "2020-06-10T14:22:06.092811Z"
    }
   },
   "outputs": [],
   "source": [
    "import numpy as np\n",
    "import pandas as pd\n",
    "from pysus.utilities.readdbc import read_dbc"
   ]
  },
  {
   "cell_type": "code",
   "execution_count": 23,
   "metadata": {
    "ExecuteTime": {
     "end_time": "2020-06-10T14:19:10.084104Z",
     "start_time": "2020-06-10T14:18:16.558398Z"
    }
   },
   "outputs": [],
   "source": [
    "df = read_dbc(\"data/SUS/CID10/DOSP2018.dbc\", encoding=\"latin-1\")"
   ]
  },
  {
   "cell_type": "code",
   "execution_count": 46,
   "metadata": {
    "ExecuteTime": {
     "end_time": "2020-06-10T14:44:14.127197Z",
     "start_time": "2020-06-10T14:44:14.061888Z"
    },
    "scrolled": true
   },
   "outputs": [
    {
     "data": {
      "text/plain": [
       "array(['J09', 'J100', 'J101', 'J108', 'J110', 'J111', 'J118'],\n",
       "      dtype=object)"
      ]
     },
     "execution_count": 46,
     "metadata": {},
     "output_type": "execute_result"
    }
   ],
   "source": [
    "cid10 = [\"J09\", \"J10\", \"J100\", \"J101\", \"J108\", \"J11\", \"J110\", \"J111\", \"J118\", \"U04\", \"U049\"]\n",
    "\n",
    "dfd = df[df[\"CAUSABAS\"].isin(cid10)].copy()\n",
    "np.unique(dfd[\"CAUSABAS\"])"
   ]
  },
  {
   "cell_type": "code",
   "execution_count": 60,
   "metadata": {
    "ExecuteTime": {
     "end_time": "2020-06-10T14:48:10.909894Z",
     "start_time": "2020-06-10T14:48:10.889669Z"
    },
    "scrolled": true
   },
   "outputs": [
    {
     "name": "stdout",
     "output_type": "stream",
     "text": [
      "*R092 *J969 *J40X *J118  J118\n"
     ]
    }
   ],
   "source": [
    "print(\n",
    "    dfd[\"LINHAA\"].iloc[0], \n",
    "    dfd[\"LINHAB\"].iloc[0], \n",
    "    dfd[\"LINHAC\"].iloc[0], \n",
    "    dfd[\"LINHAD\"].iloc[0], \n",
    "    dfd[\"LINHAII\"].iloc[0],\n",
    "    dfd[\"CAUSABAS\"].iloc[0]\n",
    ")"
   ]
  },
  {
   "cell_type": "code",
   "execution_count": null,
   "metadata": {},
   "outputs": [],
   "source": []
  }
 ],
 "metadata": {
  "kernelspec": {
   "display_name": "Python 3",
   "language": "python",
   "name": "python3"
  },
  "language_info": {
   "codemirror_mode": {
    "name": "ipython",
    "version": 3
   },
   "file_extension": ".py",
   "mimetype": "text/x-python",
   "name": "python",
   "nbconvert_exporter": "python",
   "pygments_lexer": "ipython3",
   "version": "3.8.2"
  }
 },
 "nbformat": 4,
 "nbformat_minor": 4
}
